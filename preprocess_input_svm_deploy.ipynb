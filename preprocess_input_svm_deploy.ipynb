{
 "cells": [
  {
   "cell_type": "code",
   "execution_count": 7,
   "id": "33ff277e-f69d-4eb4-82b7-b6d91ef0a10e",
   "metadata": {},
   "outputs": [],
   "source": [
    "import pickle\n",
    "import pandas as pd\n",
    "dataset=pd.read_csv(\"50_startups.csv\")\n",
    "dataset=pd.get_dummies(dataset,dtype=int,drop_first=True)\n",
    "independent=dataset[['R&D Spend', 'Administration', 'Marketing Spend','State_Florida', 'State_New York']]\n",
    "dependent=dataset[['Profit']]\n"
   ]
  },
  {
   "cell_type": "code",
   "execution_count": 9,
   "id": "6ef0d916-a512-4b0d-b6ef-d5486c0fcf6f",
   "metadata": {},
   "outputs": [],
   "source": [
    "from sklearn.model_selection import train_test_split\n",
    "#calling the parameterized function train_test_split \n",
    "x_train,x_test,y_train,y_test=train_test_split(independent, dependent, test_size=0.30, random_state=0)\n",
    "from sklearn.preprocessing import StandardScaler\n",
    "sc=StandardScaler()\n",
    "x_train=sc.fit_transform(x_train)\n",
    "x_test=sc.transform(x_test)\n"
   ]
  },
  {
   "cell_type": "code",
   "execution_count": 15,
   "id": "2793fbe6-bca2-4108-b82c-71d54896b324",
   "metadata": {},
   "outputs": [
    {
     "name": "stderr",
     "output_type": "stream",
     "text": [
      "C:\\ProgramData\\anaconda3\\Lib\\site-packages\\sklearn\\base.py:493: UserWarning: X does not have valid feature names, but StandardScaler was fitted with feature names\n",
      "  warnings.warn(\n"
     ]
    }
   ],
   "source": [
    "preinput=sc.transform([[1300,12000,4000,1,0]])\n"
   ]
  },
  {
   "cell_type": "code",
   "execution_count": 13,
   "id": "b04f2432-d06f-49d9-9c30-f9fc43e6a71a",
   "metadata": {},
   "outputs": [],
   "source": [
    "loaded_model=pickle.load(open(\"finalized_model_Preprocess_input_svm.sav\",'rb'))"
   ]
  },
  {
   "cell_type": "code",
   "execution_count": 17,
   "id": "3091e02e-9e2e-4508-976b-686c62911348",
   "metadata": {},
   "outputs": [
    {
     "data": {
      "text/plain": [
       "array([108591.41587338])"
      ]
     },
     "execution_count": 17,
     "metadata": {},
     "output_type": "execute_result"
    }
   ],
   "source": [
    "result=loaded_model.predict(preinput)\n",
    "result"
   ]
  },
  {
   "cell_type": "code",
   "execution_count": null,
   "id": "62180d57-7aa3-41e3-bcb1-d46fd950feec",
   "metadata": {},
   "outputs": [],
   "source": []
  }
 ],
 "metadata": {
  "kernelspec": {
   "display_name": "Python 3 (ipykernel)",
   "language": "python",
   "name": "python3"
  },
  "language_info": {
   "codemirror_mode": {
    "name": "ipython",
    "version": 3
   },
   "file_extension": ".py",
   "mimetype": "text/x-python",
   "name": "python",
   "nbconvert_exporter": "python",
   "pygments_lexer": "ipython3",
   "version": "3.12.4"
  }
 },
 "nbformat": 4,
 "nbformat_minor": 5
}
