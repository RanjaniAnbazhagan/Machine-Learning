{
 "cells": [
  {
   "cell_type": "code",
   "execution_count": 1,
   "id": "6b9a6dc3-58bb-413d-ba3f-b53e58eb3e95",
   "metadata": {},
   "outputs": [],
   "source": [
    "import pickle"
   ]
  },
  {
   "cell_type": "code",
   "execution_count": 5,
   "id": "43055182-caaa-4ad7-93a3-656d899162a2",
   "metadata": {},
   "outputs": [
    {
     "name": "stderr",
     "output_type": "stream",
     "text": [
      "C:\\ProgramData\\anaconda3\\Lib\\site-packages\\sklearn\\base.py:493: UserWarning: X does not have valid feature names, but LinearRegression was fitted with feature names\n",
      "  warnings.warn(\n"
     ]
    },
    {
     "data": {
      "text/plain": [
       "array([[43994.79745873]])"
      ]
     },
     "execution_count": 5,
     "metadata": {},
     "output_type": "execute_result"
    }
   ],
   "source": [
    "loaded_model=pickle.load(open(\"finalized_model_multi_linear.sav\",'rb'))\n",
    "#if the input is 0,we can see the initial value of bias\n"
   ]
  },
  {
   "cell_type": "code",
   "execution_count": 13,
   "id": "9d394af2-2c12-4e95-8faf-763046a3a33e",
   "metadata": {},
   "outputs": [
    {
     "name": "stdin",
     "output_type": "stream",
     "text": [
      "R&D spend 1234\n",
      "Admin spend 345\n",
      "marketing spend 4565\n",
      "state_florida 1\n",
      "state_Newyork 0\n"
     ]
    }
   ],
   "source": [
    "rd_spend=float(input(\"R&D spend\"))\n",
    "Admin_spend=float(input(\"Admin spend\"))\n",
    "marketing_spend=float(input(\"marketing spend\"))\n",
    "state_Florida=int(input(\"state_florida\"))\n",
    "state_Newyork=int(input(\"state_Newyork\"))"
   ]
  },
  {
   "cell_type": "code",
   "execution_count": 17,
   "id": "67da9d59-706f-44fb-bfb4-d25145e65e42",
   "metadata": {},
   "outputs": [
    {
     "name": "stderr",
     "output_type": "stream",
     "text": [
      "C:\\ProgramData\\anaconda3\\Lib\\site-packages\\sklearn\\base.py:493: UserWarning: X does not have valid feature names, but LinearRegression was fitted with feature names\n",
      "  warnings.warn(\n"
     ]
    },
    {
     "data": {
      "text/plain": [
       "array([[43994.79745873]])"
      ]
     },
     "execution_count": 17,
     "metadata": {},
     "output_type": "execute_result"
    }
   ],
   "source": [
    "result=loaded_model.predict([[rd_spend,Admin_spend,marketing_spend,state_Florida,state_Newyork]])\n",
    "result"
   ]
  },
  {
   "cell_type": "code",
   "execution_count": null,
   "id": "6a9fa0bc-0343-463a-85e2-d6632c6226d1",
   "metadata": {},
   "outputs": [],
   "source": []
  }
 ],
 "metadata": {
  "kernelspec": {
   "display_name": "Python 3 (ipykernel)",
   "language": "python",
   "name": "python3"
  },
  "language_info": {
   "codemirror_mode": {
    "name": "ipython",
    "version": 3
   },
   "file_extension": ".py",
   "mimetype": "text/x-python",
   "name": "python",
   "nbconvert_exporter": "python",
   "pygments_lexer": "ipython3",
   "version": "3.12.4"
  }
 },
 "nbformat": 4,
 "nbformat_minor": 5
}
